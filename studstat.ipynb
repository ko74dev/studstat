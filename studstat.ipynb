{
  "cells": [
    {
      "cell_type": "markdown",
      "metadata": {
        "id": "qb_ajqWXuguV"
      },
      "source": [
        "## Загрузим нужные библиотеки"
      ]
    },
    {
      "cell_type": "code",
      "execution_count": null,
      "metadata": {
        "id": "SWsdXmMw6Sk4"
      },
      "outputs": [],
      "source": [
        "!pip install -U catboost"
      ]
    },
    {
      "cell_type": "code",
      "execution_count": null,
      "metadata": {
        "id": "MTgpe_1quUDs",
        "colab": {
          "base_uri": "https://localhost:8080/",
          "height": 104,
          "referenced_widgets": [
            "37b4327d38d4466d913947606c091cad",
            "ff36389611f248e8b92bfed89196bc72",
            "315df5c8bea5450d9d6c2b92f07ec938",
            "c514416ebe0144e59e26b4ad179fefaa",
            "86c7e85108f54292a814d20f01723deb",
            "2d76ddf3a18d4316b8297749df94436a",
            "21e5546c38774e7997fc7354f6cf1508",
            "5ce08559d66c420db2eea588da3ce049",
            "885e48bf544f42888b1067371eff3d29",
            "6795e1f557d84742b089fc70ee60c145",
            "fc556c00878c4747a99e81c43779745e"
          ]
        },
        "outputId": "0a1e192c-8b5a-4b2b-f21c-4c54d7ceb541"
      },
      "outputs": [
        {
          "output_type": "stream",
          "name": "stderr",
          "text": [
            "The cache for model files in Transformers v4.22.0 has been updated. Migrating your old cache. This is a one-time only operation. You can interrupt this and resume the migration later on by calling `transformers.utils.move_cache()`.\n"
          ]
        },
        {
          "output_type": "stream",
          "name": "stdout",
          "text": [
            "Moving 0 files to the new cache system\n"
          ]
        },
        {
          "output_type": "display_data",
          "data": {
            "text/plain": [
              "0it [00:00, ?it/s]"
            ],
            "application/vnd.jupyter.widget-view+json": {
              "version_major": 2,
              "version_minor": 0,
              "model_id": "37b4327d38d4466d913947606c091cad"
            }
          },
          "metadata": {}
        }
      ],
      "source": [
        "import pandas as pd\n",
        "from sklearn.model_selection import train_test_split\n",
        "from sklearn.feature_extraction.text import TfidfVectorizer\n",
        "from sklearn.decomposition import PCA\n",
        "from sklearn.metrics import f1_score\n",
        "import numpy as np\n",
        "from imblearn.over_sampling import ADASYN\n",
        "from catboost import CatBoostClassifier"
      ]
    },
    {
      "cell_type": "markdown",
      "metadata": {
        "id": "GgCS5B_PutbW"
      },
      "source": [
        "## Рассмотрим датасет по ближе"
      ]
    },
    {
      "cell_type": "code",
      "source": [
        "from google.colab import drive\n",
        "drive.mount('/content/drive')"
      ],
      "metadata": {
        "colab": {
          "base_uri": "https://localhost:8080/"
        },
        "id": "tCycN4QvC-0W",
        "outputId": "9fc764c7-1c41-4eaa-a6eb-27c12f84da76"
      },
      "execution_count": null,
      "outputs": [
        {
          "output_type": "stream",
          "name": "stdout",
          "text": [
            "Drive already mounted at /content/drive; to attempt to forcibly remount, call drive.mount(\"/content/drive\", force_remount=True).\n"
          ]
        }
      ]
    },
    {
      "cell_type": "code",
      "execution_count": null,
      "metadata": {
        "colab": {
          "base_uri": "https://localhost:8080/"
        },
        "id": "YjJxC6OR6Sk-",
        "outputId": "ef0f363a-2f01-4995-b16c-999f4a7f9617"
      },
      "outputs": [
        {
          "output_type": "execute_result",
          "data": {
            "text/plain": [
              "(13584, 24)"
            ]
          },
          "metadata": {},
          "execution_count": 99
        }
      ],
      "source": [
        "df = pd.read_csv(\"/content/drive/MyDrive/train_dataset_train.csv\")\n",
        "df.shape"
      ]
    },
    {
      "cell_type": "code",
      "execution_count": null,
      "metadata": {
        "scrolled": true,
        "colab": {
          "base_uri": "https://localhost:8080/"
        },
        "id": "bZZOcqRl6SlA",
        "outputId": "e2e70206-e904-4200-a668-80f4e42947f9"
      },
      "outputs": [
        {
          "output_type": "stream",
          "name": "stdout",
          "text": [
            "<class 'pandas.core.frame.DataFrame'>\n",
            "RangeIndex: 13584 entries, 0 to 13583\n",
            "Data columns (total 24 columns):\n",
            " #   Column            Non-Null Count  Dtype  \n",
            "---  ------            --------------  -----  \n",
            " 0   ID                13584 non-null  int64  \n",
            " 1   Код_группы        13584 non-null  int64  \n",
            " 2   Год_Поступления   13584 non-null  int64  \n",
            " 3   Пол               13577 non-null  object \n",
            " 4   Основания         13584 non-null  object \n",
            " 5   Изучаемый_Язык    12758 non-null  object \n",
            " 6   Дата_Рождения     13584 non-null  object \n",
            " 7   Уч_Заведение      12351 non-null  object \n",
            " 8   Где_Находится_УЗ  12203 non-null  object \n",
            " 9   Год_Окончания_УЗ  12284 non-null  float64\n",
            " 10  Пособие           12576 non-null  float64\n",
            " 11  Страна_ПП         13237 non-null  object \n",
            " 12  Регион_ПП         12966 non-null  object \n",
            " 13  Город_ПП          13141 non-null  object \n",
            " 14  Общежитие         13498 non-null  float64\n",
            " 15  Наличие_Матери    13584 non-null  int64  \n",
            " 16  Наличие_Отца      13584 non-null  float64\n",
            " 17  Страна_Родители   13126 non-null  object \n",
            " 18  Опекунство        13584 non-null  float64\n",
            " 19  Село              13498 non-null  float64\n",
            " 20  Иностранец        13274 non-null  float64\n",
            " 21  КодФакультета     13584 non-null  float64\n",
            " 22  СрБаллАттестата   13584 non-null  float64\n",
            " 23  Статус            13584 non-null  int64  \n",
            "dtypes: float64(9), int64(5), object(10)\n",
            "memory usage: 2.5+ MB\n"
          ]
        }
      ],
      "source": [
        "df.info()"
      ]
    },
    {
      "cell_type": "code",
      "execution_count": null,
      "metadata": {
        "colab": {
          "base_uri": "https://localhost:8080/",
          "height": 552
        },
        "id": "K1A7Qw3J6SlB",
        "outputId": "8e720024-55d4-41a1-f83e-9e69a0956acd"
      },
      "outputs": [
        {
          "output_type": "execute_result",
          "data": {
            "text/plain": [
              "                        ID  Код_группы  Год_Поступления  Год_Окончания_УЗ  \\\n",
              "ID                1.000000    0.764826         0.695542          0.403148   \n",
              "Код_группы        0.764826    1.000000         0.579809          0.393579   \n",
              "Год_Поступления   0.695542    0.579809         1.000000          0.444285   \n",
              "Год_Окончания_УЗ  0.403148    0.393579         0.444285          1.000000   \n",
              "Пособие                NaN         NaN              NaN               NaN   \n",
              "Общежитие         0.059165    0.087827         0.068872          0.158369   \n",
              "Наличие_Матери    0.227340    0.246644         0.193887          0.188252   \n",
              "Наличие_Отца      0.233302    0.249594         0.197208          0.189574   \n",
              "Опекунство        0.011990    0.006243         0.014914          0.010188   \n",
              "Село             -0.015480   -0.031974        -0.016431          0.021259   \n",
              "Иностранец        0.112968    0.084208         0.086738          0.056972   \n",
              "КодФакультета     0.063387   -0.002302         0.036665         -0.017714   \n",
              "СрБаллАттестата   0.014171   -0.002305         0.004741          0.016083   \n",
              "Статус           -0.265286   -0.184447        -0.234061         -0.101810   \n",
              "\n",
              "                  Пособие  Общежитие  Наличие_Матери  Наличие_Отца  \\\n",
              "ID                    NaN   0.059165        0.227340      0.233302   \n",
              "Код_группы            NaN   0.087827        0.246644      0.249594   \n",
              "Год_Поступления       NaN   0.068872        0.193887      0.197208   \n",
              "Год_Окончания_УЗ      NaN   0.158369        0.188252      0.189574   \n",
              "Пособие               NaN        NaN             NaN           NaN   \n",
              "Общежитие             NaN   1.000000       -0.063634     -0.064805   \n",
              "Наличие_Матери        NaN  -0.063634        1.000000      0.995588   \n",
              "Наличие_Отца          NaN  -0.064805        0.995588      1.000000   \n",
              "Опекунство            NaN   0.005776       -0.021510     -0.021427   \n",
              "Село                  NaN   0.187191       -0.100948     -0.102011   \n",
              "Иностранец            NaN   0.320743        0.020458      0.020947   \n",
              "КодФакультета         NaN   0.026264        0.043190      0.042421   \n",
              "СрБаллАттестата       NaN  -0.010216        0.033259      0.033458   \n",
              "Статус                NaN  -0.036606       -0.028311     -0.029946   \n",
              "\n",
              "                  Опекунство      Село  Иностранец  КодФакультета  \\\n",
              "ID                  0.011990 -0.015480    0.112968       0.063387   \n",
              "Код_группы          0.006243 -0.031974    0.084208      -0.002302   \n",
              "Год_Поступления     0.014914 -0.016431    0.086738       0.036665   \n",
              "Год_Окончания_УЗ    0.010188  0.021259    0.056972      -0.017714   \n",
              "Пособие                  NaN       NaN         NaN            NaN   \n",
              "Общежитие           0.005776  0.187191    0.320743       0.026264   \n",
              "Наличие_Матери     -0.021510 -0.100948    0.020458       0.043190   \n",
              "Наличие_Отца       -0.021427 -0.102011    0.020947       0.042421   \n",
              "Опекунство          1.000000 -0.003148   -0.005861       0.002484   \n",
              "Село               -0.003148  1.000000   -0.084514       0.028853   \n",
              "Иностранец         -0.005861 -0.084514    1.000000       0.050668   \n",
              "КодФакультета       0.002484  0.028853    0.050668       1.000000   \n",
              "СрБаллАттестата    -0.001539 -0.003484    0.001270       0.001174   \n",
              "Статус             -0.031248  0.015433   -0.083175      -0.045014   \n",
              "\n",
              "                  СрБаллАттестата    Статус  \n",
              "ID                       0.014171 -0.265286  \n",
              "Код_группы              -0.002305 -0.184447  \n",
              "Год_Поступления          0.004741 -0.234061  \n",
              "Год_Окончания_УЗ         0.016083 -0.101810  \n",
              "Пособие                       NaN       NaN  \n",
              "Общежитие               -0.010216 -0.036606  \n",
              "Наличие_Матери           0.033259 -0.028311  \n",
              "Наличие_Отца             0.033458 -0.029946  \n",
              "Опекунство              -0.001539 -0.031248  \n",
              "Село                    -0.003484  0.015433  \n",
              "Иностранец               0.001270 -0.083175  \n",
              "КодФакультета            0.001174 -0.045014  \n",
              "СрБаллАттестата          1.000000 -0.034221  \n",
              "Статус                  -0.034221  1.000000  "
            ],
            "text/html": [
              "\n",
              "  <div id=\"df-bf9a7f50-99be-48de-aea3-7c74f83a9406\">\n",
              "    <div class=\"colab-df-container\">\n",
              "      <div>\n",
              "<style scoped>\n",
              "    .dataframe tbody tr th:only-of-type {\n",
              "        vertical-align: middle;\n",
              "    }\n",
              "\n",
              "    .dataframe tbody tr th {\n",
              "        vertical-align: top;\n",
              "    }\n",
              "\n",
              "    .dataframe thead th {\n",
              "        text-align: right;\n",
              "    }\n",
              "</style>\n",
              "<table border=\"1\" class=\"dataframe\">\n",
              "  <thead>\n",
              "    <tr style=\"text-align: right;\">\n",
              "      <th></th>\n",
              "      <th>ID</th>\n",
              "      <th>Код_группы</th>\n",
              "      <th>Год_Поступления</th>\n",
              "      <th>Год_Окончания_УЗ</th>\n",
              "      <th>Пособие</th>\n",
              "      <th>Общежитие</th>\n",
              "      <th>Наличие_Матери</th>\n",
              "      <th>Наличие_Отца</th>\n",
              "      <th>Опекунство</th>\n",
              "      <th>Село</th>\n",
              "      <th>Иностранец</th>\n",
              "      <th>КодФакультета</th>\n",
              "      <th>СрБаллАттестата</th>\n",
              "      <th>Статус</th>\n",
              "    </tr>\n",
              "  </thead>\n",
              "  <tbody>\n",
              "    <tr>\n",
              "      <th>ID</th>\n",
              "      <td>1.000000</td>\n",
              "      <td>0.764826</td>\n",
              "      <td>0.695542</td>\n",
              "      <td>0.403148</td>\n",
              "      <td>NaN</td>\n",
              "      <td>0.059165</td>\n",
              "      <td>0.227340</td>\n",
              "      <td>0.233302</td>\n",
              "      <td>0.011990</td>\n",
              "      <td>-0.015480</td>\n",
              "      <td>0.112968</td>\n",
              "      <td>0.063387</td>\n",
              "      <td>0.014171</td>\n",
              "      <td>-0.265286</td>\n",
              "    </tr>\n",
              "    <tr>\n",
              "      <th>Код_группы</th>\n",
              "      <td>0.764826</td>\n",
              "      <td>1.000000</td>\n",
              "      <td>0.579809</td>\n",
              "      <td>0.393579</td>\n",
              "      <td>NaN</td>\n",
              "      <td>0.087827</td>\n",
              "      <td>0.246644</td>\n",
              "      <td>0.249594</td>\n",
              "      <td>0.006243</td>\n",
              "      <td>-0.031974</td>\n",
              "      <td>0.084208</td>\n",
              "      <td>-0.002302</td>\n",
              "      <td>-0.002305</td>\n",
              "      <td>-0.184447</td>\n",
              "    </tr>\n",
              "    <tr>\n",
              "      <th>Год_Поступления</th>\n",
              "      <td>0.695542</td>\n",
              "      <td>0.579809</td>\n",
              "      <td>1.000000</td>\n",
              "      <td>0.444285</td>\n",
              "      <td>NaN</td>\n",
              "      <td>0.068872</td>\n",
              "      <td>0.193887</td>\n",
              "      <td>0.197208</td>\n",
              "      <td>0.014914</td>\n",
              "      <td>-0.016431</td>\n",
              "      <td>0.086738</td>\n",
              "      <td>0.036665</td>\n",
              "      <td>0.004741</td>\n",
              "      <td>-0.234061</td>\n",
              "    </tr>\n",
              "    <tr>\n",
              "      <th>Год_Окончания_УЗ</th>\n",
              "      <td>0.403148</td>\n",
              "      <td>0.393579</td>\n",
              "      <td>0.444285</td>\n",
              "      <td>1.000000</td>\n",
              "      <td>NaN</td>\n",
              "      <td>0.158369</td>\n",
              "      <td>0.188252</td>\n",
              "      <td>0.189574</td>\n",
              "      <td>0.010188</td>\n",
              "      <td>0.021259</td>\n",
              "      <td>0.056972</td>\n",
              "      <td>-0.017714</td>\n",
              "      <td>0.016083</td>\n",
              "      <td>-0.101810</td>\n",
              "    </tr>\n",
              "    <tr>\n",
              "      <th>Пособие</th>\n",
              "      <td>NaN</td>\n",
              "      <td>NaN</td>\n",
              "      <td>NaN</td>\n",
              "      <td>NaN</td>\n",
              "      <td>NaN</td>\n",
              "      <td>NaN</td>\n",
              "      <td>NaN</td>\n",
              "      <td>NaN</td>\n",
              "      <td>NaN</td>\n",
              "      <td>NaN</td>\n",
              "      <td>NaN</td>\n",
              "      <td>NaN</td>\n",
              "      <td>NaN</td>\n",
              "      <td>NaN</td>\n",
              "    </tr>\n",
              "    <tr>\n",
              "      <th>Общежитие</th>\n",
              "      <td>0.059165</td>\n",
              "      <td>0.087827</td>\n",
              "      <td>0.068872</td>\n",
              "      <td>0.158369</td>\n",
              "      <td>NaN</td>\n",
              "      <td>1.000000</td>\n",
              "      <td>-0.063634</td>\n",
              "      <td>-0.064805</td>\n",
              "      <td>0.005776</td>\n",
              "      <td>0.187191</td>\n",
              "      <td>0.320743</td>\n",
              "      <td>0.026264</td>\n",
              "      <td>-0.010216</td>\n",
              "      <td>-0.036606</td>\n",
              "    </tr>\n",
              "    <tr>\n",
              "      <th>Наличие_Матери</th>\n",
              "      <td>0.227340</td>\n",
              "      <td>0.246644</td>\n",
              "      <td>0.193887</td>\n",
              "      <td>0.188252</td>\n",
              "      <td>NaN</td>\n",
              "      <td>-0.063634</td>\n",
              "      <td>1.000000</td>\n",
              "      <td>0.995588</td>\n",
              "      <td>-0.021510</td>\n",
              "      <td>-0.100948</td>\n",
              "      <td>0.020458</td>\n",
              "      <td>0.043190</td>\n",
              "      <td>0.033259</td>\n",
              "      <td>-0.028311</td>\n",
              "    </tr>\n",
              "    <tr>\n",
              "      <th>Наличие_Отца</th>\n",
              "      <td>0.233302</td>\n",
              "      <td>0.249594</td>\n",
              "      <td>0.197208</td>\n",
              "      <td>0.189574</td>\n",
              "      <td>NaN</td>\n",
              "      <td>-0.064805</td>\n",
              "      <td>0.995588</td>\n",
              "      <td>1.000000</td>\n",
              "      <td>-0.021427</td>\n",
              "      <td>-0.102011</td>\n",
              "      <td>0.020947</td>\n",
              "      <td>0.042421</td>\n",
              "      <td>0.033458</td>\n",
              "      <td>-0.029946</td>\n",
              "    </tr>\n",
              "    <tr>\n",
              "      <th>Опекунство</th>\n",
              "      <td>0.011990</td>\n",
              "      <td>0.006243</td>\n",
              "      <td>0.014914</td>\n",
              "      <td>0.010188</td>\n",
              "      <td>NaN</td>\n",
              "      <td>0.005776</td>\n",
              "      <td>-0.021510</td>\n",
              "      <td>-0.021427</td>\n",
              "      <td>1.000000</td>\n",
              "      <td>-0.003148</td>\n",
              "      <td>-0.005861</td>\n",
              "      <td>0.002484</td>\n",
              "      <td>-0.001539</td>\n",
              "      <td>-0.031248</td>\n",
              "    </tr>\n",
              "    <tr>\n",
              "      <th>Село</th>\n",
              "      <td>-0.015480</td>\n",
              "      <td>-0.031974</td>\n",
              "      <td>-0.016431</td>\n",
              "      <td>0.021259</td>\n",
              "      <td>NaN</td>\n",
              "      <td>0.187191</td>\n",
              "      <td>-0.100948</td>\n",
              "      <td>-0.102011</td>\n",
              "      <td>-0.003148</td>\n",
              "      <td>1.000000</td>\n",
              "      <td>-0.084514</td>\n",
              "      <td>0.028853</td>\n",
              "      <td>-0.003484</td>\n",
              "      <td>0.015433</td>\n",
              "    </tr>\n",
              "    <tr>\n",
              "      <th>Иностранец</th>\n",
              "      <td>0.112968</td>\n",
              "      <td>0.084208</td>\n",
              "      <td>0.086738</td>\n",
              "      <td>0.056972</td>\n",
              "      <td>NaN</td>\n",
              "      <td>0.320743</td>\n",
              "      <td>0.020458</td>\n",
              "      <td>0.020947</td>\n",
              "      <td>-0.005861</td>\n",
              "      <td>-0.084514</td>\n",
              "      <td>1.000000</td>\n",
              "      <td>0.050668</td>\n",
              "      <td>0.001270</td>\n",
              "      <td>-0.083175</td>\n",
              "    </tr>\n",
              "    <tr>\n",
              "      <th>КодФакультета</th>\n",
              "      <td>0.063387</td>\n",
              "      <td>-0.002302</td>\n",
              "      <td>0.036665</td>\n",
              "      <td>-0.017714</td>\n",
              "      <td>NaN</td>\n",
              "      <td>0.026264</td>\n",
              "      <td>0.043190</td>\n",
              "      <td>0.042421</td>\n",
              "      <td>0.002484</td>\n",
              "      <td>0.028853</td>\n",
              "      <td>0.050668</td>\n",
              "      <td>1.000000</td>\n",
              "      <td>0.001174</td>\n",
              "      <td>-0.045014</td>\n",
              "    </tr>\n",
              "    <tr>\n",
              "      <th>СрБаллАттестата</th>\n",
              "      <td>0.014171</td>\n",
              "      <td>-0.002305</td>\n",
              "      <td>0.004741</td>\n",
              "      <td>0.016083</td>\n",
              "      <td>NaN</td>\n",
              "      <td>-0.010216</td>\n",
              "      <td>0.033259</td>\n",
              "      <td>0.033458</td>\n",
              "      <td>-0.001539</td>\n",
              "      <td>-0.003484</td>\n",
              "      <td>0.001270</td>\n",
              "      <td>0.001174</td>\n",
              "      <td>1.000000</td>\n",
              "      <td>-0.034221</td>\n",
              "    </tr>\n",
              "    <tr>\n",
              "      <th>Статус</th>\n",
              "      <td>-0.265286</td>\n",
              "      <td>-0.184447</td>\n",
              "      <td>-0.234061</td>\n",
              "      <td>-0.101810</td>\n",
              "      <td>NaN</td>\n",
              "      <td>-0.036606</td>\n",
              "      <td>-0.028311</td>\n",
              "      <td>-0.029946</td>\n",
              "      <td>-0.031248</td>\n",
              "      <td>0.015433</td>\n",
              "      <td>-0.083175</td>\n",
              "      <td>-0.045014</td>\n",
              "      <td>-0.034221</td>\n",
              "      <td>1.000000</td>\n",
              "    </tr>\n",
              "  </tbody>\n",
              "</table>\n",
              "</div>\n",
              "      <button class=\"colab-df-convert\" onclick=\"convertToInteractive('df-bf9a7f50-99be-48de-aea3-7c74f83a9406')\"\n",
              "              title=\"Convert this dataframe to an interactive table.\"\n",
              "              style=\"display:none;\">\n",
              "        \n",
              "  <svg xmlns=\"http://www.w3.org/2000/svg\" height=\"24px\"viewBox=\"0 0 24 24\"\n",
              "       width=\"24px\">\n",
              "    <path d=\"M0 0h24v24H0V0z\" fill=\"none\"/>\n",
              "    <path d=\"M18.56 5.44l.94 2.06.94-2.06 2.06-.94-2.06-.94-.94-2.06-.94 2.06-2.06.94zm-11 1L8.5 8.5l.94-2.06 2.06-.94-2.06-.94L8.5 2.5l-.94 2.06-2.06.94zm10 10l.94 2.06.94-2.06 2.06-.94-2.06-.94-.94-2.06-.94 2.06-2.06.94z\"/><path d=\"M17.41 7.96l-1.37-1.37c-.4-.4-.92-.59-1.43-.59-.52 0-1.04.2-1.43.59L10.3 9.45l-7.72 7.72c-.78.78-.78 2.05 0 2.83L4 21.41c.39.39.9.59 1.41.59.51 0 1.02-.2 1.41-.59l7.78-7.78 2.81-2.81c.8-.78.8-2.07 0-2.86zM5.41 20L4 18.59l7.72-7.72 1.47 1.35L5.41 20z\"/>\n",
              "  </svg>\n",
              "      </button>\n",
              "      \n",
              "  <style>\n",
              "    .colab-df-container {\n",
              "      display:flex;\n",
              "      flex-wrap:wrap;\n",
              "      gap: 12px;\n",
              "    }\n",
              "\n",
              "    .colab-df-convert {\n",
              "      background-color: #E8F0FE;\n",
              "      border: none;\n",
              "      border-radius: 50%;\n",
              "      cursor: pointer;\n",
              "      display: none;\n",
              "      fill: #1967D2;\n",
              "      height: 32px;\n",
              "      padding: 0 0 0 0;\n",
              "      width: 32px;\n",
              "    }\n",
              "\n",
              "    .colab-df-convert:hover {\n",
              "      background-color: #E2EBFA;\n",
              "      box-shadow: 0px 1px 2px rgba(60, 64, 67, 0.3), 0px 1px 3px 1px rgba(60, 64, 67, 0.15);\n",
              "      fill: #174EA6;\n",
              "    }\n",
              "\n",
              "    [theme=dark] .colab-df-convert {\n",
              "      background-color: #3B4455;\n",
              "      fill: #D2E3FC;\n",
              "    }\n",
              "\n",
              "    [theme=dark] .colab-df-convert:hover {\n",
              "      background-color: #434B5C;\n",
              "      box-shadow: 0px 1px 3px 1px rgba(0, 0, 0, 0.15);\n",
              "      filter: drop-shadow(0px 1px 2px rgba(0, 0, 0, 0.3));\n",
              "      fill: #FFFFFF;\n",
              "    }\n",
              "  </style>\n",
              "\n",
              "      <script>\n",
              "        const buttonEl =\n",
              "          document.querySelector('#df-bf9a7f50-99be-48de-aea3-7c74f83a9406 button.colab-df-convert');\n",
              "        buttonEl.style.display =\n",
              "          google.colab.kernel.accessAllowed ? 'block' : 'none';\n",
              "\n",
              "        async function convertToInteractive(key) {\n",
              "          const element = document.querySelector('#df-bf9a7f50-99be-48de-aea3-7c74f83a9406');\n",
              "          const dataTable =\n",
              "            await google.colab.kernel.invokeFunction('convertToInteractive',\n",
              "                                                     [key], {});\n",
              "          if (!dataTable) return;\n",
              "\n",
              "          const docLinkHtml = 'Like what you see? Visit the ' +\n",
              "            '<a target=\"_blank\" href=https://colab.research.google.com/notebooks/data_table.ipynb>data table notebook</a>'\n",
              "            + ' to learn more about interactive tables.';\n",
              "          element.innerHTML = '';\n",
              "          dataTable['output_type'] = 'display_data';\n",
              "          await google.colab.output.renderOutput(dataTable, element);\n",
              "          const docLink = document.createElement('div');\n",
              "          docLink.innerHTML = docLinkHtml;\n",
              "          element.appendChild(docLink);\n",
              "        }\n",
              "      </script>\n",
              "    </div>\n",
              "  </div>\n",
              "  "
            ]
          },
          "metadata": {},
          "execution_count": 101
        }
      ],
      "source": [
        "df.corr()"
      ]
    },
    {
      "cell_type": "markdown",
      "metadata": {
        "id": "IjTGeJP3u1-4"
      },
      "source": [
        "## Предобработка в данных"
      ]
    },
    {
      "cell_type": "code",
      "execution_count": null,
      "metadata": {
        "scrolled": true,
        "id": "j-9aMNLZ6SlC"
      },
      "outputs": [],
      "source": [
        "def pre(X):\n",
        "    X['ID'] %= X.Код_группы\n",
        "    \n",
        "    for c in ['Общежитие', 'Село', 'Иностранец']:\n",
        "        X[c] = X[c].map({0:-1, 1:1}).fillna(0).astype(np.int8)\n",
        "    X['Пол'] = X.Пол.map({'Муж':-1, 'Жен':1}).fillna(0).astype(np.int8)\n",
        "    \n",
        "    X['Дата_Рождения'] = pd.to_datetime(X.Дата_Рождения).dt.year.astype(np.uint16)\n",
        "    X.Год_Окончания_УЗ.fillna(X.Дата_Рождения + 19, inplace=True)\n",
        "    X['Год_Поступления'] = (X.Год_Поступления - X.Год_Окончания_УЗ).clip(0, 30) / 30\n",
        "    X['Год_Окончания_УЗ'] = (X.Год_Окончания_УЗ - X.Дата_Рождения).clip(0, 55) / 55\n",
        "    X.drop(columns=['Дата_Рождения'], inplace=True)\n",
        "    \n",
        "    X['Наличие'] = (X.Наличие_Матери+X.Наличие_Отца).astype(np.uint8)\n",
        "    X.drop(columns=['Наличие_Матери','Наличие_Отца'], inplace=True)\n",
        "\n",
        "    X.loc[X.СрБаллАттестата == 0, 'СрБаллАттестата'] = 33\n",
        "    for cntri in [((X.СрБаллАттестата>0) & (X.СрБаллАттестата<6)),\n",
        "                 ((X.СрБаллАттестата>=8) & (X.СрБаллАттестата<21)),\n",
        "                 ((X.СрБаллАттестата>20) & (X.СрБаллАттестата<30)),\n",
        "                 ((X.СрБаллАттестата>=30) & (X.СрБаллАттестата<=100)),\n",
        "                 ((X.СрБаллАттестата>1000))]:\n",
        "        if not cntri.size: continue\n",
        "        mi = X.loc[cntri,'СрБаллАттестата'].min()\n",
        "        ma = X.loc[cntri,'СрБаллАттестата'].max()\n",
        "        if mi == ma: mi,ma = 0,ma/2\n",
        "        X.loc[cntri, 'СрБаллАттестата'] = X.loc[cntri, \n",
        "                                     'СрБаллАттестата'].map(lambda x: (x - mi) / ma)\n",
        "    X.СрБаллАттестата.clip(0,1, inplace=True)    \n",
        "    X = pd.get_dummies(X, prefix='Осн', columns=['Основания'])\n",
        "    X['КодФакультета'] = X.КодФакультета.astype(np.uint8)\n",
        "    X = pd.get_dummies(X, prefix='CF', columns=['КодФакультета'])\n",
        "    X['Код_группы'] = (X.Код_группы - X.Код_группы.min())/X.Код_группы.max()\n",
        "\n",
        "    return X\n",
        "\n",
        "X = pre(df.drop(columns = ['Где_Находится_УЗ', 'Регион_ПП', 'Город_ПП', 'Страна_ПП',\n",
        "                           'Страна_Родители', 'Уч_Заведение', 'Изучаемый_Язык']))"
      ]
    },
    {
      "cell_type": "code",
      "execution_count": null,
      "metadata": {
        "scrolled": true,
        "colab": {
          "base_uri": "https://localhost:8080/",
          "height": 1000
        },
        "id": "PD96BXLF6SlK",
        "outputId": "7cecf243-dc56-4b5d-f795-4631dfb3a6cd"
      },
      "outputs": [
        {
          "output_type": "display_data",
          "data": {
            "text/plain": [
              "<Figure size 1080x2160 with 42 Axes>"
            ],
            "image/png": "[encoded data removed]"
          },
          "metadata": {
            "needs_background": "light"
          }
        }
      ],
      "source": [
        "y = X.Статус\n",
        "X.drop(columns=['Статус'], inplace=True)\n",
        "_ = X.hist(figsize=(15,30))"
      ]
    },
    {
      "cell_type": "code",
      "execution_count": null,
      "metadata": {
        "id": "KfyhcN9q6SlL"
      },
      "outputs": [],
      "source": [
        "X.drop(columns=['Пособие', 'Опекунство',\n",
        "                'CF_37', 'CF_46', 'CF_47', 'CF_49', 'CF_53',\n",
        "               ], \n",
        "       inplace=True)"
      ]
    },
    {
      "cell_type": "code",
      "execution_count": null,
      "metadata": {
        "scrolled": true,
        "id": "YpusilOw6SlD"
      },
      "outputs": [],
      "source": [
        "X['text'] = df[['Страна_ПП', 'Где_Находится_УЗ', 'Уч_Заведение', 'Изучаемый_Язык',\n",
        "               'Страна_Родители']].fillna('X'\n",
        "                        ).apply( lambda x: ' '.join(map(str, x)), axis=1)"
      ]
    },
    {
      "cell_type": "code",
      "execution_count": null,
      "metadata": {
        "id": "ZBwoBIEw6SlG"
      },
      "outputs": [],
      "source": [
        "vectorizer = TfidfVectorizer()\n",
        "textv = vectorizer.fit_transform(X['text'])"
      ]
    },
    {
      "cell_type": "code",
      "execution_count": null,
      "metadata": {
        "id": "8Ql9LXpl6SlG"
      },
      "outputs": [],
      "source": [
        "pca = PCA(n_components=16, svd_solver='full', random_state=42)\n",
        "pca.fit(pd.DataFrame(textv.toarray()))\n",
        "pca_train = pca.transform(pd.DataFrame(textv.toarray()))\n",
        "X = pd.concat([X, pd.DataFrame(pca_train)], axis=1)\n",
        "X.drop(columns=['text'], inplace=True)"
      ]
    },
    {
      "cell_type": "code",
      "execution_count": null,
      "metadata": {
        "colab": {
          "base_uri": "https://localhost:8080/"
        },
        "id": "Y1pN7cDu6SlN",
        "outputId": "04918f4e-9257-406b-d7ad-09b16f6dbceb"
      },
      "outputs": [
        {
          "output_type": "execute_result",
          "data": {
            "text/plain": [
              " 4    8249\n",
              " 3    4721\n",
              "-1     614\n",
              "Name: Статус, dtype: int64"
            ]
          },
          "metadata": {},
          "execution_count": 112
        }
      ],
      "source": [
        "y.value_counts()"
      ]
    },
    {
      "cell_type": "code",
      "execution_count": null,
      "metadata": {
        "id": "XLQYhBll6SlO"
      },
      "outputs": [],
      "source": [
        "X_train, X_test, y_train, y_test = train_test_split(\n",
        "                                        X, y, test_size=0.15, random_state=0)"
      ]
    },
    {
      "cell_type": "code",
      "execution_count": null,
      "metadata": {
        "colab": {
          "base_uri": "https://localhost:8080/"
        },
        "id": "XiNyrhBa6SlP",
        "outputId": "0bd902d2-d925-4ef4-e514-c7798793502d"
      },
      "outputs": [
        {
          "output_type": "execute_result",
          "data": {
            "text/plain": [
              " 4    6990\n",
              " 3    4027\n",
              "-1     529\n",
              "Name: Статус, dtype: int64"
            ]
          },
          "metadata": {},
          "execution_count": 114
        }
      ],
      "source": [
        "y_train.value_counts()"
      ]
    },
    {
      "cell_type": "code",
      "execution_count": null,
      "metadata": {
        "colab": {
          "base_uri": "https://localhost:8080/"
        },
        "id": "RTRtcugp6SlQ",
        "outputId": "97d5c348-82b3-4151-fd5f-479c013b8453"
      },
      "outputs": [
        {
          "output_type": "stream",
          "name": "stderr",
          "text": [
            "/usr/local/lib/python3.7/dist-packages/sklearn/utils/validation.py:1692: FutureWarning: Feature names only support names that are all strings. Got feature names with dtypes: ['int', 'str']. An error will be raised in 1.2.\n",
            "  FutureWarning,\n"
          ]
        },
        {
          "output_type": "execute_result",
          "data": {
            "text/plain": [
              "-1    7045\n",
              " 4    6990\n",
              " 3    6774\n",
              "Name: Статус, dtype: int64"
            ]
          },
          "metadata": {},
          "execution_count": 115
        }
      ],
      "source": [
        "ada = ADASYN( \n",
        "            sampling_strategy='all', random_state=0,\n",
        "            n_neighbors=7, n_jobs=-1)\n",
        "\n",
        "X_b, y_b = ada.fit_resample(X_train, y_train)\n",
        "y_b.value_counts()"
      ]
    },
    {
      "cell_type": "code",
      "execution_count": null,
      "metadata": {
        "scrolled": true,
        "colab": {
          "base_uri": "https://localhost:8080/"
        },
        "id": "6GO4AZ476SlR",
        "outputId": "2ab15439-6c0a-4c5e-b596-97a4b9c01639"
      },
      "outputs": [
        {
          "output_type": "stream",
          "name": "stdout",
          "text": [
            "0:\tlearn: 1.0661273\ttest: 1.0694798\tbest: 1.0694798 (0)\ttotal: 28.3ms\tremaining: 56.7s\n",
            "100:\tlearn: 0.4277448\ttest: 0.4828585\tbest: 0.4828585 (100)\ttotal: 1.8s\tremaining: 33.9s\n",
            "200:\tlearn: 0.3453720\ttest: 0.4179457\tbest: 0.4179457 (200)\ttotal: 3.45s\tremaining: 30.9s\n",
            "300:\tlearn: 0.2999877\ttest: 0.3904457\tbest: 0.3904457 (300)\ttotal: 5.12s\tremaining: 28.9s\n",
            "400:\tlearn: 0.2664585\ttest: 0.3755424\tbest: 0.3755424 (400)\ttotal: 6.81s\tremaining: 27.2s\n",
            "500:\tlearn: 0.2401469\ttest: 0.3642532\tbest: 0.3642532 (500)\ttotal: 8.52s\tremaining: 25.5s\n",
            "600:\tlearn: 0.2195723\ttest: 0.3570587\tbest: 0.3570587 (600)\ttotal: 10.2s\tremaining: 23.8s\n",
            "700:\tlearn: 0.2024053\ttest: 0.3514242\tbest: 0.3514242 (700)\ttotal: 11.9s\tremaining: 22s\n",
            "800:\tlearn: 0.1873379\ttest: 0.3478699\tbest: 0.3478559 (799)\ttotal: 13.6s\tremaining: 20.3s\n",
            "900:\tlearn: 0.1747579\ttest: 0.3448804\tbest: 0.3447505 (897)\ttotal: 15.3s\tremaining: 18.6s\n",
            "1000:\tlearn: 0.1635716\ttest: 0.3424203\tbest: 0.3423804 (999)\ttotal: 17s\tremaining: 16.9s\n",
            "1100:\tlearn: 0.1538286\ttest: 0.3412179\tbest: 0.3411383 (1098)\ttotal: 18.7s\tremaining: 15.3s\n",
            "bestTest = 0.3409237548\n",
            "bestIteration = 1127\n",
            "Shrink model to first 1128 iterations.\n"
          ]
        },
        {
          "output_type": "execute_result",
          "data": {
            "text/plain": [
              "0.7753512086718587"
            ]
          },
          "metadata": {},
          "execution_count": 116
        }
      ],
      "source": [
        "cbc = CatBoostClassifier(random_state=42, iterations=2000, task_type='GPU',\n",
        "                          learning_rate = 0.033, depth=9, l2_leaf_reg=4,\n",
        "                            early_stopping_rounds = 50)\n",
        "cbc.fit(X_b, y_b, \n",
        "        eval_set = (X_test, y_test),verbose=100)\n",
        "f1_score(y_test, cbc.predict(X_test), average='macro', zero_division = 0)"
      ]
    },
    {
      "cell_type": "markdown",
      "metadata": {
        "id": "yjJp2a4dFmNJ"
      },
      "source": [
        "# Cоздание файла с ответом"
      ]
    },
    {
      "cell_type": "code",
      "execution_count": null,
      "metadata": {
        "id": "-1HabuSpBbYS"
      },
      "outputs": [],
      "source": [
        "df_test = pd.read_csv(\"/content/drive/MyDrive/test_dataset_test.csv\")\n",
        "df_submission = pd.read_csv(\"/content/drive/MyDrive/sample_submission.csv\")"
      ]
    },
    {
      "cell_type": "markdown",
      "metadata": {
        "id": "XIfjIJ7cF_gS"
      },
      "source": [
        "Провем те же манипуляции с данными что и на обучении"
      ]
    },
    {
      "cell_type": "code",
      "source": [
        "text = df_test[['Страна_ПП', 'Где_Находится_УЗ', 'Уч_Заведение', \n",
        "                      'Изучаемый_Язык', 'Страна_Родители']].fillna('X'\n",
        "                        ).apply( lambda x: ' '.join(map(str, x)), axis=1\n",
        "                               )"
      ],
      "metadata": {
        "id": "xKt2xjQG-L2K"
      },
      "execution_count": null,
      "outputs": []
    },
    {
      "cell_type": "code",
      "execution_count": null,
      "metadata": {
        "id": "0I1jddSzBbaK"
      },
      "outputs": [],
      "source": [
        "df_test = pre(df_test.drop(columns = [# 'ID', #'Код_группы',\n",
        "                       'Где_Находится_УЗ', 'Регион_ПП', 'Город_ПП', 'Страна_ПП',\n",
        "                           'Страна_Родители', 'Уч_Заведение', 'Изучаемый_Язык',\n",
        "                      ]))"
      ]
    },
    {
      "cell_type": "code",
      "execution_count": null,
      "metadata": {
        "id": "zJXTk60rGZxn"
      },
      "outputs": [],
      "source": [
        "df_test.drop(columns=['Пособие', 'Опекунство',\n",
        "                'CF_37', 'CF_46', 'CF_53', 'CF_47', 'CF_49',\n",
        "               ], \n",
        "             inplace=True)"
      ]
    },
    {
      "cell_type": "code",
      "execution_count": null,
      "metadata": {
        "id": "eM_1gjGX6SlZ"
      },
      "outputs": [],
      "source": [
        "textv = vectorizer.transform(text)\n",
        "pca.fit(pd.DataFrame(textv.toarray()))\n",
        "pca_test = pca.transform(pd.DataFrame(textv.toarray()))"
      ]
    },
    {
      "cell_type": "code",
      "execution_count": null,
      "metadata": {
        "id": "Mds9Uvsv6SlZ"
      },
      "outputs": [],
      "source": [
        "df_test = pd.concat([df_test, pd.DataFrame(pca_test)], axis=1)"
      ]
    },
    {
      "cell_type": "code",
      "execution_count": null,
      "metadata": {
        "colab": {
          "base_uri": "https://localhost:8080/",
          "height": 175
        },
        "id": "py7AM_IFBbe7",
        "outputId": "92219998-19f3-4f92-eebb-870daa435609",
        "scrolled": true
      },
      "outputs": [
        {
          "output_type": "execute_result",
          "data": {
            "text/plain": [
              "      ID  Статус\n",
              "0  64996       4\n",
              "1  71837       4\n",
              "2  86587      -1\n",
              "3  73673      -1"
            ],
            "text/html": [
              "\n",
              "  <div id=\"df-2e6bb08a-0775-43bb-b841-7cb6ca52a0ab\">\n",
              "    <div class=\"colab-df-container\">\n",
              "      <div>\n",
              "<style scoped>\n",
              "    .dataframe tbody tr th:only-of-type {\n",
              "        vertical-align: middle;\n",
              "    }\n",
              "\n",
              "    .dataframe tbody tr th {\n",
              "        vertical-align: top;\n",
              "    }\n",
              "\n",
              "    .dataframe thead th {\n",
              "        text-align: right;\n",
              "    }\n",
              "</style>\n",
              "<table border=\"1\" class=\"dataframe\">\n",
              "  <thead>\n",
              "    <tr style=\"text-align: right;\">\n",
              "      <th></th>\n",
              "      <th>ID</th>\n",
              "      <th>Статус</th>\n",
              "    </tr>\n",
              "  </thead>\n",
              "  <tbody>\n",
              "    <tr>\n",
              "      <th>0</th>\n",
              "      <td>64996</td>\n",
              "      <td>4</td>\n",
              "    </tr>\n",
              "    <tr>\n",
              "      <th>1</th>\n",
              "      <td>71837</td>\n",
              "      <td>4</td>\n",
              "    </tr>\n",
              "    <tr>\n",
              "      <th>2</th>\n",
              "      <td>86587</td>\n",
              "      <td>-1</td>\n",
              "    </tr>\n",
              "    <tr>\n",
              "      <th>3</th>\n",
              "      <td>73673</td>\n",
              "      <td>-1</td>\n",
              "    </tr>\n",
              "  </tbody>\n",
              "</table>\n",
              "</div>\n",
              "      <button class=\"colab-df-convert\" onclick=\"convertToInteractive('df-2e6bb08a-0775-43bb-b841-7cb6ca52a0ab')\"\n",
              "              title=\"Convert this dataframe to an interactive table.\"\n",
              "              style=\"display:none;\">\n",
              "        \n",
              "  <svg xmlns=\"http://www.w3.org/2000/svg\" height=\"24px\"viewBox=\"0 0 24 24\"\n",
              "       width=\"24px\">\n",
              "    <path d=\"M0 0h24v24H0V0z\" fill=\"none\"/>\n",
              "    <path d=\"M18.56 5.44l.94 2.06.94-2.06 2.06-.94-2.06-.94-.94-2.06-.94 2.06-2.06.94zm-11 1L8.5 8.5l.94-2.06 2.06-.94-2.06-.94L8.5 2.5l-.94 2.06-2.06.94zm10 10l.94 2.06.94-2.06 2.06-.94-2.06-.94-.94-2.06-.94 2.06-2.06.94z\"/><path d=\"M17.41 7.96l-1.37-1.37c-.4-.4-.92-.59-1.43-.59-.52 0-1.04.2-1.43.59L10.3 9.45l-7.72 7.72c-.78.78-.78 2.05 0 2.83L4 21.41c.39.39.9.59 1.41.59.51 0 1.02-.2 1.41-.59l7.78-7.78 2.81-2.81c.8-.78.8-2.07 0-2.86zM5.41 20L4 18.59l7.72-7.72 1.47 1.35L5.41 20z\"/>\n",
              "  </svg>\n",
              "      </button>\n",
              "      \n",
              "  <style>\n",
              "    .colab-df-container {\n",
              "      display:flex;\n",
              "      flex-wrap:wrap;\n",
              "      gap: 12px;\n",
              "    }\n",
              "\n",
              "    .colab-df-convert {\n",
              "      background-color: #E8F0FE;\n",
              "      border: none;\n",
              "      border-radius: 50%;\n",
              "      cursor: pointer;\n",
              "      display: none;\n",
              "      fill: #1967D2;\n",
              "      height: 32px;\n",
              "      padding: 0 0 0 0;\n",
              "      width: 32px;\n",
              "    }\n",
              "\n",
              "    .colab-df-convert:hover {\n",
              "      background-color: #E2EBFA;\n",
              "      box-shadow: 0px 1px 2px rgba(60, 64, 67, 0.3), 0px 1px 3px 1px rgba(60, 64, 67, 0.15);\n",
              "      fill: #174EA6;\n",
              "    }\n",
              "\n",
              "    [theme=dark] .colab-df-convert {\n",
              "      background-color: #3B4455;\n",
              "      fill: #D2E3FC;\n",
              "    }\n",
              "\n",
              "    [theme=dark] .colab-df-convert:hover {\n",
              "      background-color: #434B5C;\n",
              "      box-shadow: 0px 1px 3px 1px rgba(0, 0, 0, 0.15);\n",
              "      filter: drop-shadow(0px 1px 2px rgba(0, 0, 0, 0.3));\n",
              "      fill: #FFFFFF;\n",
              "    }\n",
              "  </style>\n",
              "\n",
              "      <script>\n",
              "        const buttonEl =\n",
              "          document.querySelector('#df-2e6bb08a-0775-43bb-b841-7cb6ca52a0ab button.colab-df-convert');\n",
              "        buttonEl.style.display =\n",
              "          google.colab.kernel.accessAllowed ? 'block' : 'none';\n",
              "\n",
              "        async function convertToInteractive(key) {\n",
              "          const element = document.querySelector('#df-2e6bb08a-0775-43bb-b841-7cb6ca52a0ab');\n",
              "          const dataTable =\n",
              "            await google.colab.kernel.invokeFunction('convertToInteractive',\n",
              "                                                     [key], {});\n",
              "          if (!dataTable) return;\n",
              "\n",
              "          const docLinkHtml = 'Like what you see? Visit the ' +\n",
              "            '<a target=\"_blank\" href=https://colab.research.google.com/notebooks/data_table.ipynb>data table notebook</a>'\n",
              "            + ' to learn more about interactive tables.';\n",
              "          element.innerHTML = '';\n",
              "          dataTable['output_type'] = 'display_data';\n",
              "          await google.colab.output.renderOutput(dataTable, element);\n",
              "          const docLink = document.createElement('div');\n",
              "          docLink.innerHTML = docLinkHtml;\n",
              "          element.appendChild(docLink);\n",
              "        }\n",
              "      </script>\n",
              "    </div>\n",
              "  </div>\n",
              "  "
            ]
          },
          "metadata": {},
          "execution_count": 123
        }
      ],
      "source": [
        "df_submission[\"Статус\"] = cbc.predict(df_test)\n",
        "df_submission.head(4)"
      ]
    },
    {
      "cell_type": "code",
      "execution_count": null,
      "metadata": {
        "id": "hiUyIdnWGgJu"
      },
      "outputs": [],
      "source": [
        "df_submission.to_csv(\"sub.csv\", index=False)"
      ]
    },
    {
      "cell_type": "code",
      "execution_count": null,
      "metadata": {
        "id": "rztCs1in6Slc"
      },
      "outputs": [],
      "source": []
    }
  ],
  "metadata": {
    "colab": {
      "provenance": [],
      "collapsed_sections": []
    },
    "kernelspec": {
      "display_name": "Python 3 (ipykernel)",
      "language": "python",
      "name": "python3"
    },
    "language_info": {
      "codemirror_mode": {
        "name": "ipython",
        "version": 3
      },
      "file_extension": ".py",
      "mimetype": "text/x-python",
      "name": "python",
      "nbconvert_exporter": "python",
      "pygments_lexer": "ipython3",
      "version": "3.7.3"
    },
    "accelerator": "GPU",
    "widgets": {
      "application/vnd.jupyter.widget-state+json": {
        "37b4327d38d4466d913947606c091cad": {
          "model_module": "@jupyter-widgets/controls",
          "model_name": "HBoxModel",
          "model_module_version": "1.5.0",
          "state": {
            "_dom_classes": [],
            "_model_module": "@jupyter-widgets/controls",
            "_model_module_version": "1.5.0",
            "_model_name": "HBoxModel",
            "_view_count": null,
            "_view_module": "@jupyter-widgets/controls",
            "_view_module_version": "1.5.0",
            "_view_name": "HBoxView",
            "box_style": "",
            "children": [
              "IPY_MODEL_ff36389611f248e8b92bfed89196bc72",
              "IPY_MODEL_315df5c8bea5450d9d6c2b92f07ec938",
              "IPY_MODEL_c514416ebe0144e59e26b4ad179fefaa"
            ],
            "layout": "IPY_MODEL_86c7e85108f54292a814d20f01723deb"
          }
        },
        "ff36389611f248e8b92bfed89196bc72": {
          "model_module": "@jupyter-widgets/controls",
          "model_name": "HTMLModel",
          "model_module_version": "1.5.0",
          "state": {
            "_dom_classes": [],
            "_model_module": "@jupyter-widgets/controls",
            "_model_module_version": "1.5.0",
            "_model_name": "HTMLModel",
            "_view_count": null,
            "_view_module": "@jupyter-widgets/controls",
            "_view_module_version": "1.5.0",
            "_view_name": "HTMLView",
            "description": "",
            "description_tooltip": null,
            "layout": "IPY_MODEL_2d76ddf3a18d4316b8297749df94436a",
            "placeholder": "​",
            "style": "IPY_MODEL_21e5546c38774e7997fc7354f6cf1508",
            "value": ""
          }
        },
        "315df5c8bea5450d9d6c2b92f07ec938": {
          "model_module": "@jupyter-widgets/controls",
          "model_name": "FloatProgressModel",
          "model_module_version": "1.5.0",
          "state": {
            "_dom_classes": [],
            "_model_module": "@jupyter-widgets/controls",
            "_model_module_version": "1.5.0",
            "_model_name": "FloatProgressModel",
            "_view_count": null,
            "_view_module": "@jupyter-widgets/controls",
            "_view_module_version": "1.5.0",
            "_view_name": "ProgressView",
            "bar_style": "success",
            "description": "",
            "description_tooltip": null,
            "layout": "IPY_MODEL_5ce08559d66c420db2eea588da3ce049",
            "max": 1,
            "min": 0,
            "orientation": "horizontal",
            "style": "IPY_MODEL_885e48bf544f42888b1067371eff3d29",
            "value": 0
          }
        },
        "c514416ebe0144e59e26b4ad179fefaa": {
          "model_module": "@jupyter-widgets/controls",
          "model_name": "HTMLModel",
          "model_module_version": "1.5.0",
          "state": {
            "_dom_classes": [],
            "_model_module": "@jupyter-widgets/controls",
            "_model_module_version": "1.5.0",
            "_model_name": "HTMLModel",
            "_view_count": null,
            "_view_module": "@jupyter-widgets/controls",
            "_view_module_version": "1.5.0",
            "_view_name": "HTMLView",
            "description": "",
            "description_tooltip": null,
            "layout": "IPY_MODEL_6795e1f557d84742b089fc70ee60c145",
            "placeholder": "​",
            "style": "IPY_MODEL_fc556c00878c4747a99e81c43779745e",
            "value": " 0/0 [00:00&lt;?, ?it/s]"
          }
        },
        "86c7e85108f54292a814d20f01723deb": {
          "model_module": "@jupyter-widgets/base",
          "model_name": "LayoutModel",
          "model_module_version": "1.2.0",
          "state": {
            "_model_module": "@jupyter-widgets/base",
            "_model_module_version": "1.2.0",
            "_model_name": "LayoutModel",
            "_view_count": null,
            "_view_module": "@jupyter-widgets/base",
            "_view_module_version": "1.2.0",
            "_view_name": "LayoutView",
            "align_content": null,
            "align_items": null,
            "align_self": null,
            "border": null,
            "bottom": null,
            "display": null,
            "flex": null,
            "flex_flow": null,
            "grid_area": null,
            "grid_auto_columns": null,
            "grid_auto_flow": null,
            "grid_auto_rows": null,
            "grid_column": null,
            "grid_gap": null,
            "grid_row": null,
            "grid_template_areas": null,
            "grid_template_columns": null,
            "grid_template_rows": null,
            "height": null,
            "justify_content": null,
            "justify_items": null,
            "left": null,
            "margin": null,
            "max_height": null,
            "max_width": null,
            "min_height": null,
            "min_width": null,
            "object_fit": null,
            "object_position": null,
            "order": null,
            "overflow": null,
            "overflow_x": null,
            "overflow_y": null,
            "padding": null,
            "right": null,
            "top": null,
            "visibility": null,
            "width": null
          }
        },
        "2d76ddf3a18d4316b8297749df94436a": {
          "model_module": "@jupyter-widgets/base",
          "model_name": "LayoutModel",
          "model_module_version": "1.2.0",
          "state": {
            "_model_module": "@jupyter-widgets/base",
            "_model_module_version": "1.2.0",
            "_model_name": "LayoutModel",
            "_view_count": null,
            "_view_module": "@jupyter-widgets/base",
            "_view_module_version": "1.2.0",
            "_view_name": "LayoutView",
            "align_content": null,
            "align_items": null,
            "align_self": null,
            "border": null,
            "bottom": null,
            "display": null,
            "flex": null,
            "flex_flow": null,
            "grid_area": null,
            "grid_auto_columns": null,
            "grid_auto_flow": null,
            "grid_auto_rows": null,
            "grid_column": null,
            "grid_gap": null,
            "grid_row": null,
            "grid_template_areas": null,
            "grid_template_columns": null,
            "grid_template_rows": null,
            "height": null,
            "justify_content": null,
            "justify_items": null,
            "left": null,
            "margin": null,
            "max_height": null,
            "max_width": null,
            "min_height": null,
            "min_width": null,
            "object_fit": null,
            "object_position": null,
            "order": null,
            "overflow": null,
            "overflow_x": null,
            "overflow_y": null,
            "padding": null,
            "right": null,
            "top": null,
            "visibility": null,
            "width": null
          }
        },
        "21e5546c38774e7997fc7354f6cf1508": {
          "model_module": "@jupyter-widgets/controls",
          "model_name": "DescriptionStyleModel",
          "model_module_version": "1.5.0",
          "state": {
            "_model_module": "@jupyter-widgets/controls",
            "_model_module_version": "1.5.0",
            "_model_name": "DescriptionStyleModel",
            "_view_count": null,
            "_view_module": "@jupyter-widgets/base",
            "_view_module_version": "1.2.0",
            "_view_name": "StyleView",
            "description_width": ""
          }
        },
        "5ce08559d66c420db2eea588da3ce049": {
          "model_module": "@jupyter-widgets/base",
          "model_name": "LayoutModel",
          "model_module_version": "1.2.0",
          "state": {
            "_model_module": "@jupyter-widgets/base",
            "_model_module_version": "1.2.0",
            "_model_name": "LayoutModel",
            "_view_count": null,
            "_view_module": "@jupyter-widgets/base",
            "_view_module_version": "1.2.0",
            "_view_name": "LayoutView",
            "align_content": null,
            "align_items": null,
            "align_self": null,
            "border": null,
            "bottom": null,
            "display": null,
            "flex": null,
            "flex_flow": null,
            "grid_area": null,
            "grid_auto_columns": null,
            "grid_auto_flow": null,
            "grid_auto_rows": null,
            "grid_column": null,
            "grid_gap": null,
            "grid_row": null,
            "grid_template_areas": null,
            "grid_template_columns": null,
            "grid_template_rows": null,
            "height": null,
            "justify_content": null,
            "justify_items": null,
            "left": null,
            "margin": null,
            "max_height": null,
            "max_width": null,
            "min_height": null,
            "min_width": null,
            "object_fit": null,
            "object_position": null,
            "order": null,
            "overflow": null,
            "overflow_x": null,
            "overflow_y": null,
            "padding": null,
            "right": null,
            "top": null,
            "visibility": null,
            "width": "20px"
          }
        },
        "885e48bf544f42888b1067371eff3d29": {
          "model_module": "@jupyter-widgets/controls",
          "model_name": "ProgressStyleModel",
          "model_module_version": "1.5.0",
          "state": {
            "_model_module": "@jupyter-widgets/controls",
            "_model_module_version": "1.5.0",
            "_model_name": "ProgressStyleModel",
            "_view_count": null,
            "_view_module": "@jupyter-widgets/base",
            "_view_module_version": "1.2.0",
            "_view_name": "StyleView",
            "bar_color": null,
            "description_width": ""
          }
        },
        "6795e1f557d84742b089fc70ee60c145": {
          "model_module": "@jupyter-widgets/base",
          "model_name": "LayoutModel",
          "model_module_version": "1.2.0",
          "state": {
            "_model_module": "@jupyter-widgets/base",
            "_model_module_version": "1.2.0",
            "_model_name": "LayoutModel",
            "_view_count": null,
            "_view_module": "@jupyter-widgets/base",
            "_view_module_version": "1.2.0",
            "_view_name": "LayoutView",
            "align_content": null,
            "align_items": null,
            "align_self": null,
            "border": null,
            "bottom": null,
            "display": null,
            "flex": null,
            "flex_flow": null,
            "grid_area": null,
            "grid_auto_columns": null,
            "grid_auto_flow": null,
            "grid_auto_rows": null,
            "grid_column": null,
            "grid_gap": null,
            "grid_row": null,
            "grid_template_areas": null,
            "grid_template_columns": null,
            "grid_template_rows": null,
            "height": null,
            "justify_content": null,
            "justify_items": null,
            "left": null,
            "margin": null,
            "max_height": null,
            "max_width": null,
            "min_height": null,
            "min_width": null,
            "object_fit": null,
            "object_position": null,
            "order": null,
            "overflow": null,
            "overflow_x": null,
            "overflow_y": null,
            "padding": null,
            "right": null,
            "top": null,
            "visibility": null,
            "width": null
          }
        },
        "fc556c00878c4747a99e81c43779745e": {
          "model_module": "@jupyter-widgets/controls",
          "model_name": "DescriptionStyleModel",
          "model_module_version": "1.5.0",
          "state": {
            "_model_module": "@jupyter-widgets/controls",
            "_model_module_version": "1.5.0",
            "_model_name": "DescriptionStyleModel",
            "_view_count": null,
            "_view_module": "@jupyter-widgets/base",
            "_view_module_version": "1.2.0",
            "_view_name": "StyleView",
            "description_width": ""
          }
        }
      }
    }
  },
  "nbformat": 4,
  "nbformat_minor": 0
}